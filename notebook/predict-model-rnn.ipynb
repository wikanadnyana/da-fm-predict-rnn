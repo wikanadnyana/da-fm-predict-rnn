{
 "cells": [
  {
   "cell_type": "code",
   "execution_count": 2,
   "metadata": {},
   "outputs": [
    {
     "name": "stdout",
     "output_type": "stream",
     "text": [
      "Collecting git+https://github.com/octosport/octopy.git\n",
      "  Cloning https://github.com/octosport/octopy.git to c:\\users\\wikan\\appdata\\local\\temp\\pip-req-build-8jthvdjj\n",
      "  Resolved https://github.com/octosport/octopy.git to commit 3f978fdfe92a232e30147122e6180aa2aa44b77a\n",
      "  Preparing metadata (setup.py): started\n",
      "  Preparing metadata (setup.py): finished with status 'done'\n",
      "Collecting pandas>=1.1.3\n",
      "  Using cached pandas-2.0.1-cp311-cp311-win_amd64.whl (10.6 MB)\n",
      "Requirement already satisfied: scipy>=1.5.2 in c:\\users\\wikan\\appdata\\local\\programs\\python\\python311\\lib\\site-packages (from octopy==1.0.0) (1.10.1)\n",
      "Requirement already satisfied: scikit-learn>=0.23.2 in c:\\users\\wikan\\appdata\\local\\programs\\python\\python311\\lib\\site-packages (from octopy==1.0.0) (1.2.2)\n",
      "Requirement already satisfied: jax>=0.3.0 in c:\\users\\wikan\\appdata\\local\\programs\\python\\python311\\lib\\site-packages (from octopy==1.0.0) (0.4.10)\n",
      "Requirement already satisfied: ml-dtypes>=0.1.0 in c:\\users\\wikan\\appdata\\local\\programs\\python\\python311\\lib\\site-packages (from jax>=0.3.0->octopy==1.0.0) (0.1.0)\n",
      "Requirement already satisfied: numpy>=1.21 in c:\\users\\wikan\\appdata\\local\\programs\\python\\python311\\lib\\site-packages (from jax>=0.3.0->octopy==1.0.0) (1.24.2)\n",
      "Requirement already satisfied: opt-einsum in c:\\users\\wikan\\appdata\\local\\programs\\python\\python311\\lib\\site-packages (from jax>=0.3.0->octopy==1.0.0) (3.3.0)\n",
      "Requirement already satisfied: python-dateutil>=2.8.2 in c:\\users\\wikan\\appdata\\local\\programs\\python\\python311\\lib\\site-packages (from pandas>=1.1.3->octopy==1.0.0) (2.8.2)\n",
      "Requirement already satisfied: pytz>=2020.1 in c:\\users\\wikan\\appdata\\local\\programs\\python\\python311\\lib\\site-packages (from pandas>=1.1.3->octopy==1.0.0) (2023.3)\n",
      "Requirement already satisfied: tzdata>=2022.1 in c:\\users\\wikan\\appdata\\local\\programs\\python\\python311\\lib\\site-packages (from pandas>=1.1.3->octopy==1.0.0) (2023.3)\n",
      "Requirement already satisfied: joblib>=1.1.1 in c:\\users\\wikan\\appdata\\local\\programs\\python\\python311\\lib\\site-packages (from scikit-learn>=0.23.2->octopy==1.0.0) (1.2.0)\n",
      "Requirement already satisfied: threadpoolctl>=2.0.0 in c:\\users\\wikan\\appdata\\local\\programs\\python\\python311\\lib\\site-packages (from scikit-learn>=0.23.2->octopy==1.0.0) (3.1.0)\n",
      "Requirement already satisfied: six>=1.5 in c:\\users\\wikan\\appdata\\local\\programs\\python\\python311\\lib\\site-packages (from python-dateutil>=2.8.2->pandas>=1.1.3->octopy==1.0.0) (1.16.0)\n",
      "Installing collected packages: pandas, octopy\n",
      "  Running setup.py install for octopy: started\n",
      "  Running setup.py install for octopy: finished with status 'done'\n",
      "Successfully installed octopy-1.0.0 pandas-2.0.1\n"
     ]
    },
    {
     "name": "stderr",
     "output_type": "stream",
     "text": [
      "  Running command git clone --filter=blob:none --quiet https://github.com/octosport/octopy.git 'C:\\Users\\wikan\\AppData\\Local\\Temp\\pip-req-build-8jthvdjj'\n",
      "  DEPRECATION: octopy is being installed using the legacy 'setup.py install' method, because it does not have a 'pyproject.toml' and the 'wheel' package is not installed. pip 23.1 will enforce this behaviour change. A possible replacement is to enable the '--use-pep517' option. Discussion can be found at https://github.com/pypa/pip/issues/8559\n",
      "\n",
      "[notice] A new release of pip available: 22.3.1 -> 23.1.2\n",
      "[notice] To update, run: python.exe -m pip install --upgrade pip\n"
     ]
    }
   ],
   "source": [
    "!pip install git+https://github.com/octosport/octopy.git"
   ]
  },
  {
   "cell_type": "code",
   "execution_count": 3,
   "metadata": {},
   "outputs": [
    {
     "ename": "ModuleNotFoundError",
     "evalue": "jax requires jaxlib to be installed. See https://github.com/google/jax#installation for installation instructions.",
     "output_type": "error",
     "traceback": [
      "\u001b[1;31m---------------------------------------------------------------------------\u001b[0m",
      "\u001b[1;31mModuleNotFoundError\u001b[0m                       Traceback (most recent call last)",
      "File \u001b[1;32md:\\SMT 6 Project\\Data Analytics\\model-rnn\\virtualenv\\Lib\\site-packages\\jax\\_src\\lib\\__init__.py:24\u001b[0m\n\u001b[0;32m     23\u001b[0m \u001b[39mtry\u001b[39;00m:\n\u001b[1;32m---> 24\u001b[0m   \u001b[39mimport\u001b[39;00m \u001b[39mjaxlib\u001b[39;00m \u001b[39mas\u001b[39;00m \u001b[39mjaxlib\u001b[39;00m\n\u001b[0;32m     25\u001b[0m \u001b[39mexcept\u001b[39;00m \u001b[39mModuleNotFoundError\u001b[39;00m \u001b[39mas\u001b[39;00m err:\n",
      "\u001b[1;31mModuleNotFoundError\u001b[0m: No module named 'jaxlib'",
      "\nThe above exception was the direct cause of the following exception:\n",
      "\u001b[1;31mModuleNotFoundError\u001b[0m                       Traceback (most recent call last)",
      "Cell \u001b[1;32mIn[3], line 5\u001b[0m\n\u001b[0;32m      3\u001b[0m \u001b[39mimport\u001b[39;00m \u001b[39mmatplotlib\u001b[39;00m\u001b[39m.\u001b[39;00m\u001b[39mpyplot\u001b[39;00m \u001b[39mas\u001b[39;00m \u001b[39mplt\u001b[39;00m\n\u001b[0;32m      4\u001b[0m \u001b[39mfrom\u001b[39;00m \u001b[39moctopy\u001b[39;00m\u001b[39m.\u001b[39;00m\u001b[39melo\u001b[39;00m \u001b[39mimport\u001b[39;00m dataset\n\u001b[1;32m----> 5\u001b[0m \u001b[39mfrom\u001b[39;00m \u001b[39moctopy\u001b[39;00m\u001b[39m.\u001b[39;00m\u001b[39melo\u001b[39;00m \u001b[39mimport\u001b[39;00m elo\n",
      "File \u001b[1;32md:\\SMT 6 Project\\Data Analytics\\model-rnn\\virtualenv\\Lib\\site-packages\\octopy\\elo\\elo.py:1\u001b[0m\n\u001b[1;32m----> 1\u001b[0m \u001b[39mfrom\u001b[39;00m \u001b[39mjax\u001b[39;00m \u001b[39mimport\u001b[39;00m nn\n\u001b[0;32m      2\u001b[0m \u001b[39mfrom\u001b[39;00m \u001b[39mjax\u001b[39;00m \u001b[39mimport\u001b[39;00m jit, grad\n\u001b[0;32m      3\u001b[0m \u001b[39mimport\u001b[39;00m \u001b[39mjax\u001b[39;00m\u001b[39m.\u001b[39;00m\u001b[39mnumpy\u001b[39;00m \u001b[39mas\u001b[39;00m \u001b[39mjnp\u001b[39;00m\n",
      "File \u001b[1;32md:\\SMT 6 Project\\Data Analytics\\model-rnn\\virtualenv\\Lib\\site-packages\\jax\\__init__.py:35\u001b[0m\n\u001b[0;32m     30\u001b[0m \u001b[39mdel\u001b[39;00m _cloud_tpu_init\n\u001b[0;32m     32\u001b[0m \u001b[39m# Confusingly there are two things named \"config\": the module and the class.\u001b[39;00m\n\u001b[0;32m     33\u001b[0m \u001b[39m# We want the exported object to be the class, so we first import the module\u001b[39;00m\n\u001b[0;32m     34\u001b[0m \u001b[39m# to make sure a later import doesn't overwrite the class.\u001b[39;00m\n\u001b[1;32m---> 35\u001b[0m \u001b[39mfrom\u001b[39;00m \u001b[39mjax\u001b[39;00m \u001b[39mimport\u001b[39;00m config \u001b[39mas\u001b[39;00m _config_module\n\u001b[0;32m     36\u001b[0m \u001b[39mdel\u001b[39;00m _config_module\n\u001b[0;32m     38\u001b[0m \u001b[39m# Force early import, allowing use of `jax.core` after importing `jax`.\u001b[39;00m\n",
      "File \u001b[1;32md:\\SMT 6 Project\\Data Analytics\\model-rnn\\virtualenv\\Lib\\site-packages\\jax\\config.py:17\u001b[0m\n\u001b[0;32m      1\u001b[0m \u001b[39m# Copyright 2018 The JAX Authors.\u001b[39;00m\n\u001b[0;32m      2\u001b[0m \u001b[39m#\u001b[39;00m\n\u001b[0;32m      3\u001b[0m \u001b[39m# Licensed under the Apache License, Version 2.0 (the \"License\");\u001b[39;00m\n\u001b[1;32m   (...)\u001b[0m\n\u001b[0;32m     14\u001b[0m \n\u001b[0;32m     15\u001b[0m \u001b[39m# TODO(phawkins): fix users of this alias and delete this file.\u001b[39;00m\n\u001b[1;32m---> 17\u001b[0m \u001b[39mfrom\u001b[39;00m \u001b[39mjax\u001b[39;00m\u001b[39m.\u001b[39;00m\u001b[39m_src\u001b[39;00m\u001b[39m.\u001b[39;00m\u001b[39mconfig\u001b[39;00m \u001b[39mimport\u001b[39;00m config  \u001b[39m# noqa: F401\u001b[39;00m\n",
      "File \u001b[1;32md:\\SMT 6 Project\\Data Analytics\\model-rnn\\virtualenv\\Lib\\site-packages\\jax\\_src\\config.py:24\u001b[0m\n\u001b[0;32m     21\u001b[0m \u001b[39mimport\u001b[39;00m \u001b[39mthreading\u001b[39;00m\n\u001b[0;32m     22\u001b[0m \u001b[39mfrom\u001b[39;00m \u001b[39mtyping\u001b[39;00m \u001b[39mimport\u001b[39;00m Any, List, Callable, Hashable, NamedTuple, Iterator, Optional\n\u001b[1;32m---> 24\u001b[0m \u001b[39mfrom\u001b[39;00m \u001b[39mjax\u001b[39;00m\u001b[39m.\u001b[39;00m\u001b[39m_src\u001b[39;00m \u001b[39mimport\u001b[39;00m lib\n\u001b[0;32m     25\u001b[0m \u001b[39mfrom\u001b[39;00m \u001b[39mjax\u001b[39;00m\u001b[39m.\u001b[39;00m\u001b[39m_src\u001b[39;00m\u001b[39m.\u001b[39;00m\u001b[39mlib\u001b[39;00m \u001b[39mimport\u001b[39;00m jax_jit\n\u001b[0;32m     26\u001b[0m \u001b[39mfrom\u001b[39;00m \u001b[39mjax\u001b[39;00m\u001b[39m.\u001b[39;00m\u001b[39m_src\u001b[39;00m\u001b[39m.\u001b[39;00m\u001b[39mlib\u001b[39;00m \u001b[39mimport\u001b[39;00m transfer_guard_lib\n",
      "File \u001b[1;32md:\\SMT 6 Project\\Data Analytics\\model-rnn\\virtualenv\\Lib\\site-packages\\jax\\_src\\lib\\__init__.py:26\u001b[0m\n\u001b[0;32m     24\u001b[0m   \u001b[39mimport\u001b[39;00m \u001b[39mjaxlib\u001b[39;00m \u001b[39mas\u001b[39;00m \u001b[39mjaxlib\u001b[39;00m\n\u001b[0;32m     25\u001b[0m \u001b[39mexcept\u001b[39;00m \u001b[39mModuleNotFoundError\u001b[39;00m \u001b[39mas\u001b[39;00m err:\n\u001b[1;32m---> 26\u001b[0m   \u001b[39mraise\u001b[39;00m \u001b[39mModuleNotFoundError\u001b[39;00m(\n\u001b[0;32m     27\u001b[0m     \u001b[39m'\u001b[39m\u001b[39mjax requires jaxlib to be installed. See \u001b[39m\u001b[39m'\u001b[39m\n\u001b[0;32m     28\u001b[0m     \u001b[39m'\u001b[39m\u001b[39mhttps://github.com/google/jax#installation for installation instructions.\u001b[39m\u001b[39m'\u001b[39m\n\u001b[0;32m     29\u001b[0m     ) \u001b[39mfrom\u001b[39;00m \u001b[39merr\u001b[39;00m\n\u001b[0;32m     31\u001b[0m \u001b[39mimport\u001b[39;00m jax\u001b[39m.\u001b[39mversion\n\u001b[0;32m     32\u001b[0m \u001b[39mfrom\u001b[39;00m \u001b[39mjax\u001b[39;00m\u001b[39m.\u001b[39;00m\u001b[39mversion\u001b[39;00m \u001b[39mimport\u001b[39;00m _minimum_jaxlib_version \u001b[39mas\u001b[39;00m _minimum_jaxlib_version_str\n",
      "\u001b[1;31mModuleNotFoundError\u001b[0m: jax requires jaxlib to be installed. See https://github.com/google/jax#installation for installation instructions."
     ]
    }
   ],
   "source": [
    "import pandas as pd\n",
    "import datetime\n",
    "import matplotlib.pyplot as plt\n",
    "from octopy.elo import dataset\n",
    "from octopy.elo import elo"
   ]
  },
  {
   "cell_type": "code",
   "execution_count": null,
   "metadata": {},
   "outputs": [],
   "source": []
  }
 ],
 "metadata": {
  "kernelspec": {
   "display_name": "virtualenv",
   "language": "python",
   "name": "python3"
  },
  "language_info": {
   "codemirror_mode": {
    "name": "ipython",
    "version": 3
   },
   "file_extension": ".py",
   "mimetype": "text/x-python",
   "name": "python",
   "nbconvert_exporter": "python",
   "pygments_lexer": "ipython3",
   "version": "3.11.2"
  },
  "orig_nbformat": 4
 },
 "nbformat": 4,
 "nbformat_minor": 2
}
